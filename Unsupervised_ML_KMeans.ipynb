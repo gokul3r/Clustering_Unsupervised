{
  "nbformat": 4,
  "nbformat_minor": 0,
  "metadata": {
    "colab": {
      "name": "Unsupervised ML - KMeans",
      "provenance": [],
      "collapsed_sections": [],
      "authorship_tag": "ABX9TyPwNg5ina3/t6zOJ+/VhXMC",
      "include_colab_link": true
    },
    "kernelspec": {
      "name": "python3",
      "display_name": "Python 3"
    }
  },
  "cells": [
    {
      "cell_type": "markdown",
      "metadata": {
        "id": "view-in-github",
        "colab_type": "text"
      },
      "source": [
        "<a href=\"https://colab.research.google.com/github/gokul3r/Clustering_Unsupervised/blob/main/Unsupervised_ML_KMeans.ipynb\" target=\"_parent\"><img src=\"https://colab.research.google.com/assets/colab-badge.svg\" alt=\"Open In Colab\"/></a>"
      ]
    },
    {
      "cell_type": "markdown",
      "source": [
        "# Clustering Data with Unsupervised ML"
      ],
      "metadata": {
        "id": "IqTS4tIUvPsy"
      }
    },
    {
      "cell_type": "markdown",
      "source": [
        "### UnSupervised Machine Learning\n",
        "Unsupervised learning is a type of machine learning in which models are trained using unlabeled dataset and are allowed to act on that data without any supervision"
      ],
      "metadata": {
        "id": "9SqKXc6pvZnS"
      }
    },
    {
      "cell_type": "markdown",
      "source": [
        "### About KMeans Algorithm\n",
        "K-Means Clustering is an unsupervised learning algorithm that is used to solve the clustering problems in machine learning or data science. In this topic, we will learn what is K-means clustering algorithm, how the algorithm works, along with the Python implementation of k-means clustering."
      ],
      "metadata": {
        "id": "Qlj7lhXBvbKV"
      }
    },
    {
      "cell_type": "code",
      "source": [
        ""
      ],
      "metadata": {
        "id": "TIIC1K2hvYrb"
      },
      "execution_count": null,
      "outputs": []
    },
    {
      "cell_type": "code",
      "metadata": {
        "id": "Nj6f4xKCdr_S"
      },
      "source": [
        "import pandas as pd\n",
        "import numpy as np"
      ],
      "execution_count": null,
      "outputs": []
    },
    {
      "cell_type": "code",
      "metadata": {
        "id": "CWhyeWUFd1SN",
        "colab": {
          "base_uri": "https://localhost:8080/",
          "height": 313
        },
        "outputId": "0552aef2-bdd3-4b07-bedf-653ae8ade0d7"
      },
      "source": [
        "df=pd.read_csv(\"ufo_fullset.csv\")\n",
        "df.head()\n"
      ],
      "execution_count": null,
      "outputs": [
        {
          "output_type": "execute_result",
          "data": {
            "text/html": [
              "<div>\n",
              "<style scoped>\n",
              "    .dataframe tbody tr th:only-of-type {\n",
              "        vertical-align: middle;\n",
              "    }\n",
              "\n",
              "    .dataframe tbody tr th {\n",
              "        vertical-align: top;\n",
              "    }\n",
              "\n",
              "    .dataframe thead th {\n",
              "        text-align: right;\n",
              "    }\n",
              "</style>\n",
              "<table border=\"1\" class=\"dataframe\">\n",
              "  <thead>\n",
              "    <tr style=\"text-align: right;\">\n",
              "      <th></th>\n",
              "      <th>reportedTimestamp</th>\n",
              "      <th>eventDate</th>\n",
              "      <th>eventTime</th>\n",
              "      <th>shape</th>\n",
              "      <th>duration</th>\n",
              "      <th>witnesses</th>\n",
              "      <th>weather</th>\n",
              "      <th>firstName</th>\n",
              "      <th>lastName</th>\n",
              "      <th>latitude</th>\n",
              "      <th>longitude</th>\n",
              "      <th>sighting</th>\n",
              "      <th>physicalEvidence</th>\n",
              "      <th>contact</th>\n",
              "      <th>researchOutcome</th>\n",
              "    </tr>\n",
              "  </thead>\n",
              "  <tbody>\n",
              "    <tr>\n",
              "      <th>0</th>\n",
              "      <td>1977-04-04T04:02:23.340Z</td>\n",
              "      <td>1977-03-31</td>\n",
              "      <td>23:46</td>\n",
              "      <td>circle</td>\n",
              "      <td>4</td>\n",
              "      <td>1</td>\n",
              "      <td>rain</td>\n",
              "      <td>Ila</td>\n",
              "      <td>Bashirian</td>\n",
              "      <td>47.329444</td>\n",
              "      <td>-122.578889</td>\n",
              "      <td>Y</td>\n",
              "      <td>N</td>\n",
              "      <td>N</td>\n",
              "      <td>explained</td>\n",
              "    </tr>\n",
              "    <tr>\n",
              "      <th>1</th>\n",
              "      <td>1982-11-22T02:06:32.019Z</td>\n",
              "      <td>1982-11-15</td>\n",
              "      <td>22:04</td>\n",
              "      <td>disk</td>\n",
              "      <td>4</td>\n",
              "      <td>1</td>\n",
              "      <td>partly cloudy</td>\n",
              "      <td>Eriberto</td>\n",
              "      <td>Runolfsson</td>\n",
              "      <td>52.664913</td>\n",
              "      <td>-1.034894</td>\n",
              "      <td>Y</td>\n",
              "      <td>Y</td>\n",
              "      <td>N</td>\n",
              "      <td>explained</td>\n",
              "    </tr>\n",
              "    <tr>\n",
              "      <th>2</th>\n",
              "      <td>1992-12-07T19:06:52.482Z</td>\n",
              "      <td>1992-12-07</td>\n",
              "      <td>19:01</td>\n",
              "      <td>circle</td>\n",
              "      <td>49</td>\n",
              "      <td>1</td>\n",
              "      <td>clear</td>\n",
              "      <td>Miller</td>\n",
              "      <td>Watsica</td>\n",
              "      <td>38.951667</td>\n",
              "      <td>-92.333889</td>\n",
              "      <td>Y</td>\n",
              "      <td>N</td>\n",
              "      <td>N</td>\n",
              "      <td>explained</td>\n",
              "    </tr>\n",
              "    <tr>\n",
              "      <th>3</th>\n",
              "      <td>2011-02-24T21:06:34.898Z</td>\n",
              "      <td>2011-02-21</td>\n",
              "      <td>20:56</td>\n",
              "      <td>disk</td>\n",
              "      <td>13</td>\n",
              "      <td>1</td>\n",
              "      <td>partly cloudy</td>\n",
              "      <td>Clifton</td>\n",
              "      <td>Bechtelar</td>\n",
              "      <td>41.496944</td>\n",
              "      <td>-71.367778</td>\n",
              "      <td>Y</td>\n",
              "      <td>N</td>\n",
              "      <td>N</td>\n",
              "      <td>explained</td>\n",
              "    </tr>\n",
              "    <tr>\n",
              "      <th>4</th>\n",
              "      <td>1991-03-09T16:18:45.501Z</td>\n",
              "      <td>1991-03-09</td>\n",
              "      <td>11:42</td>\n",
              "      <td>circle</td>\n",
              "      <td>17</td>\n",
              "      <td>1</td>\n",
              "      <td>mostly cloudy</td>\n",
              "      <td>Jayda</td>\n",
              "      <td>Ebert</td>\n",
              "      <td>47.606389</td>\n",
              "      <td>-122.330833</td>\n",
              "      <td>Y</td>\n",
              "      <td>N</td>\n",
              "      <td>N</td>\n",
              "      <td>explained</td>\n",
              "    </tr>\n",
              "  </tbody>\n",
              "</table>\n",
              "</div>"
            ],
            "text/plain": [
              "          reportedTimestamp   eventDate  ... contact researchOutcome\n",
              "0  1977-04-04T04:02:23.340Z  1977-03-31  ...       N       explained\n",
              "1  1982-11-22T02:06:32.019Z  1982-11-15  ...       N       explained\n",
              "2  1992-12-07T19:06:52.482Z  1992-12-07  ...       N       explained\n",
              "3  2011-02-24T21:06:34.898Z  2011-02-21  ...       N       explained\n",
              "4  1991-03-09T16:18:45.501Z  1991-03-09  ...       N       explained\n",
              "\n",
              "[5 rows x 15 columns]"
            ]
          },
          "metadata": {
            "tags": []
          },
          "execution_count": 20
        }
      ]
    },
    {
      "cell_type": "code",
      "metadata": {
        "id": "sdcnvWp3eAi7",
        "colab": {
          "base_uri": "https://localhost:8080/",
          "height": 587
        },
        "outputId": "285ee1c1-39b4-4fd1-9393-c8aa96ce50a2"
      },
      "source": [
        "df.info()\n",
        "#Steps\n",
        "#Remove Firstname, Last name, reported time stamp, contact, physical evidence, weather\n",
        "\n",
        "df=df.drop(columns=['reportedTimestamp','firstName','lastName','physicalEvidence','contact','weather'])\n",
        "df.head()"
      ],
      "execution_count": null,
      "outputs": [
        {
          "output_type": "stream",
          "text": [
            "<class 'pandas.core.frame.DataFrame'>\n",
            "RangeIndex: 18000 entries, 0 to 17999\n",
            "Data columns (total 15 columns):\n",
            " #   Column             Non-Null Count  Dtype  \n",
            "---  ------             --------------  -----  \n",
            " 0   reportedTimestamp  18000 non-null  object \n",
            " 1   eventDate          18000 non-null  object \n",
            " 2   eventTime          18000 non-null  object \n",
            " 3   shape              17998 non-null  object \n",
            " 4   duration           18000 non-null  int64  \n",
            " 5   witnesses          18000 non-null  int64  \n",
            " 6   weather            18000 non-null  object \n",
            " 7   firstName          18000 non-null  object \n",
            " 8   lastName           18000 non-null  object \n",
            " 9   latitude           18000 non-null  float64\n",
            " 10  longitude          18000 non-null  float64\n",
            " 11  sighting           18000 non-null  object \n",
            " 12  physicalEvidence   18000 non-null  object \n",
            " 13  contact            18000 non-null  object \n",
            " 14  researchOutcome    18000 non-null  object \n",
            "dtypes: float64(2), int64(2), object(11)\n",
            "memory usage: 2.1+ MB\n"
          ],
          "name": "stdout"
        },
        {
          "output_type": "execute_result",
          "data": {
            "text/html": [
              "<div>\n",
              "<style scoped>\n",
              "    .dataframe tbody tr th:only-of-type {\n",
              "        vertical-align: middle;\n",
              "    }\n",
              "\n",
              "    .dataframe tbody tr th {\n",
              "        vertical-align: top;\n",
              "    }\n",
              "\n",
              "    .dataframe thead th {\n",
              "        text-align: right;\n",
              "    }\n",
              "</style>\n",
              "<table border=\"1\" class=\"dataframe\">\n",
              "  <thead>\n",
              "    <tr style=\"text-align: right;\">\n",
              "      <th></th>\n",
              "      <th>eventDate</th>\n",
              "      <th>eventTime</th>\n",
              "      <th>shape</th>\n",
              "      <th>duration</th>\n",
              "      <th>witnesses</th>\n",
              "      <th>latitude</th>\n",
              "      <th>longitude</th>\n",
              "      <th>sighting</th>\n",
              "      <th>researchOutcome</th>\n",
              "    </tr>\n",
              "  </thead>\n",
              "  <tbody>\n",
              "    <tr>\n",
              "      <th>0</th>\n",
              "      <td>1977-03-31</td>\n",
              "      <td>23:46</td>\n",
              "      <td>circle</td>\n",
              "      <td>4</td>\n",
              "      <td>1</td>\n",
              "      <td>47.329444</td>\n",
              "      <td>-122.578889</td>\n",
              "      <td>Y</td>\n",
              "      <td>explained</td>\n",
              "    </tr>\n",
              "    <tr>\n",
              "      <th>1</th>\n",
              "      <td>1982-11-15</td>\n",
              "      <td>22:04</td>\n",
              "      <td>disk</td>\n",
              "      <td>4</td>\n",
              "      <td>1</td>\n",
              "      <td>52.664913</td>\n",
              "      <td>-1.034894</td>\n",
              "      <td>Y</td>\n",
              "      <td>explained</td>\n",
              "    </tr>\n",
              "    <tr>\n",
              "      <th>2</th>\n",
              "      <td>1992-12-07</td>\n",
              "      <td>19:01</td>\n",
              "      <td>circle</td>\n",
              "      <td>49</td>\n",
              "      <td>1</td>\n",
              "      <td>38.951667</td>\n",
              "      <td>-92.333889</td>\n",
              "      <td>Y</td>\n",
              "      <td>explained</td>\n",
              "    </tr>\n",
              "    <tr>\n",
              "      <th>3</th>\n",
              "      <td>2011-02-21</td>\n",
              "      <td>20:56</td>\n",
              "      <td>disk</td>\n",
              "      <td>13</td>\n",
              "      <td>1</td>\n",
              "      <td>41.496944</td>\n",
              "      <td>-71.367778</td>\n",
              "      <td>Y</td>\n",
              "      <td>explained</td>\n",
              "    </tr>\n",
              "    <tr>\n",
              "      <th>4</th>\n",
              "      <td>1991-03-09</td>\n",
              "      <td>11:42</td>\n",
              "      <td>circle</td>\n",
              "      <td>17</td>\n",
              "      <td>1</td>\n",
              "      <td>47.606389</td>\n",
              "      <td>-122.330833</td>\n",
              "      <td>Y</td>\n",
              "      <td>explained</td>\n",
              "    </tr>\n",
              "  </tbody>\n",
              "</table>\n",
              "</div>"
            ],
            "text/plain": [
              "    eventDate eventTime   shape  ...   longitude  sighting  researchOutcome\n",
              "0  1977-03-31     23:46  circle  ... -122.578889         Y        explained\n",
              "1  1982-11-15     22:04    disk  ...   -1.034894         Y        explained\n",
              "2  1992-12-07     19:01  circle  ...  -92.333889         Y        explained\n",
              "3  2011-02-21     20:56    disk  ...  -71.367778         Y        explained\n",
              "4  1991-03-09     11:42  circle  ... -122.330833         Y        explained\n",
              "\n",
              "[5 rows x 9 columns]"
            ]
          },
          "metadata": {
            "tags": []
          },
          "execution_count": 21
        }
      ]
    },
    {
      "cell_type": "code",
      "metadata": {
        "id": "tbbUw_SUlQQi",
        "colab": {
          "base_uri": "https://localhost:8080/"
        },
        "outputId": "8f794c9c-0160-4db4-dd6b-2be5370d6ce2"
      },
      "source": [
        "#filter research outcome=explained, g\n",
        "print(set(df[\"researchOutcome\"]))\n",
        "df_grp_rearch_tcome=df.groupby(by=\"researchOutcome\",as_index=False).count()\n",
        "df=df[df['researchOutcome']==\"explained\"]\n",
        "set(df[\"researchOutcome\"])"
      ],
      "execution_count": null,
      "outputs": [
        {
          "output_type": "stream",
          "text": [
            "{'explained', 'probable', 'unexplained'}\n"
          ],
          "name": "stdout"
        },
        {
          "output_type": "execute_result",
          "data": {
            "text/plain": [
              "{'explained'}"
            ]
          },
          "metadata": {
            "tags": []
          },
          "execution_count": 22
        }
      ]
    },
    {
      "cell_type": "code",
      "metadata": {
        "id": "k16wo86hxxcw",
        "colab": {
          "base_uri": "https://localhost:8080/",
          "height": 206
        },
        "outputId": "c3dc679b-249e-4a45-81ac-a66a3fcbe315"
      },
      "source": [
        "df.head()"
      ],
      "execution_count": null,
      "outputs": [
        {
          "output_type": "execute_result",
          "data": {
            "text/html": [
              "<div>\n",
              "<style scoped>\n",
              "    .dataframe tbody tr th:only-of-type {\n",
              "        vertical-align: middle;\n",
              "    }\n",
              "\n",
              "    .dataframe tbody tr th {\n",
              "        vertical-align: top;\n",
              "    }\n",
              "\n",
              "    .dataframe thead th {\n",
              "        text-align: right;\n",
              "    }\n",
              "</style>\n",
              "<table border=\"1\" class=\"dataframe\">\n",
              "  <thead>\n",
              "    <tr style=\"text-align: right;\">\n",
              "      <th></th>\n",
              "      <th>eventDate</th>\n",
              "      <th>eventTime</th>\n",
              "      <th>shape</th>\n",
              "      <th>duration</th>\n",
              "      <th>witnesses</th>\n",
              "      <th>latitude</th>\n",
              "      <th>longitude</th>\n",
              "      <th>sighting</th>\n",
              "      <th>researchOutcome</th>\n",
              "    </tr>\n",
              "  </thead>\n",
              "  <tbody>\n",
              "    <tr>\n",
              "      <th>0</th>\n",
              "      <td>1977-03-31</td>\n",
              "      <td>23:46</td>\n",
              "      <td>circle</td>\n",
              "      <td>4</td>\n",
              "      <td>1</td>\n",
              "      <td>47.329444</td>\n",
              "      <td>-122.578889</td>\n",
              "      <td>Y</td>\n",
              "      <td>explained</td>\n",
              "    </tr>\n",
              "    <tr>\n",
              "      <th>1</th>\n",
              "      <td>1982-11-15</td>\n",
              "      <td>22:04</td>\n",
              "      <td>disk</td>\n",
              "      <td>4</td>\n",
              "      <td>1</td>\n",
              "      <td>52.664913</td>\n",
              "      <td>-1.034894</td>\n",
              "      <td>Y</td>\n",
              "      <td>explained</td>\n",
              "    </tr>\n",
              "    <tr>\n",
              "      <th>2</th>\n",
              "      <td>1992-12-07</td>\n",
              "      <td>19:01</td>\n",
              "      <td>circle</td>\n",
              "      <td>49</td>\n",
              "      <td>1</td>\n",
              "      <td>38.951667</td>\n",
              "      <td>-92.333889</td>\n",
              "      <td>Y</td>\n",
              "      <td>explained</td>\n",
              "    </tr>\n",
              "    <tr>\n",
              "      <th>3</th>\n",
              "      <td>2011-02-21</td>\n",
              "      <td>20:56</td>\n",
              "      <td>disk</td>\n",
              "      <td>13</td>\n",
              "      <td>1</td>\n",
              "      <td>41.496944</td>\n",
              "      <td>-71.367778</td>\n",
              "      <td>Y</td>\n",
              "      <td>explained</td>\n",
              "    </tr>\n",
              "    <tr>\n",
              "      <th>4</th>\n",
              "      <td>1991-03-09</td>\n",
              "      <td>11:42</td>\n",
              "      <td>circle</td>\n",
              "      <td>17</td>\n",
              "      <td>1</td>\n",
              "      <td>47.606389</td>\n",
              "      <td>-122.330833</td>\n",
              "      <td>Y</td>\n",
              "      <td>explained</td>\n",
              "    </tr>\n",
              "  </tbody>\n",
              "</table>\n",
              "</div>"
            ],
            "text/plain": [
              "    eventDate eventTime   shape  ...   longitude  sighting  researchOutcome\n",
              "0  1977-03-31     23:46  circle  ... -122.578889         Y        explained\n",
              "1  1982-11-15     22:04    disk  ...   -1.034894         Y        explained\n",
              "2  1992-12-07     19:01  circle  ...  -92.333889         Y        explained\n",
              "3  2011-02-21     20:56    disk  ...  -71.367778         Y        explained\n",
              "4  1991-03-09     11:42  circle  ... -122.330833         Y        explained\n",
              "\n",
              "[5 rows x 9 columns]"
            ]
          },
          "metadata": {
            "tags": []
          },
          "execution_count": 23
        }
      ]
    },
    {
      "cell_type": "code",
      "metadata": {
        "id": "sgR9uaESwKmv",
        "colab": {
          "base_uri": "https://localhost:8080/",
          "height": 206
        },
        "outputId": "b618b9a3-cf02-4af5-dc18-7b3baaf6d326"
      },
      "source": [
        "df=df.drop(columns=[\"shape\"],axis=1)\n",
        "df.head()\n"
      ],
      "execution_count": null,
      "outputs": [
        {
          "output_type": "execute_result",
          "data": {
            "text/html": [
              "<div>\n",
              "<style scoped>\n",
              "    .dataframe tbody tr th:only-of-type {\n",
              "        vertical-align: middle;\n",
              "    }\n",
              "\n",
              "    .dataframe tbody tr th {\n",
              "        vertical-align: top;\n",
              "    }\n",
              "\n",
              "    .dataframe thead th {\n",
              "        text-align: right;\n",
              "    }\n",
              "</style>\n",
              "<table border=\"1\" class=\"dataframe\">\n",
              "  <thead>\n",
              "    <tr style=\"text-align: right;\">\n",
              "      <th></th>\n",
              "      <th>eventDate</th>\n",
              "      <th>eventTime</th>\n",
              "      <th>duration</th>\n",
              "      <th>witnesses</th>\n",
              "      <th>latitude</th>\n",
              "      <th>longitude</th>\n",
              "      <th>sighting</th>\n",
              "      <th>researchOutcome</th>\n",
              "    </tr>\n",
              "  </thead>\n",
              "  <tbody>\n",
              "    <tr>\n",
              "      <th>0</th>\n",
              "      <td>1977-03-31</td>\n",
              "      <td>23:46</td>\n",
              "      <td>4</td>\n",
              "      <td>1</td>\n",
              "      <td>47.329444</td>\n",
              "      <td>-122.578889</td>\n",
              "      <td>Y</td>\n",
              "      <td>explained</td>\n",
              "    </tr>\n",
              "    <tr>\n",
              "      <th>1</th>\n",
              "      <td>1982-11-15</td>\n",
              "      <td>22:04</td>\n",
              "      <td>4</td>\n",
              "      <td>1</td>\n",
              "      <td>52.664913</td>\n",
              "      <td>-1.034894</td>\n",
              "      <td>Y</td>\n",
              "      <td>explained</td>\n",
              "    </tr>\n",
              "    <tr>\n",
              "      <th>2</th>\n",
              "      <td>1992-12-07</td>\n",
              "      <td>19:01</td>\n",
              "      <td>49</td>\n",
              "      <td>1</td>\n",
              "      <td>38.951667</td>\n",
              "      <td>-92.333889</td>\n",
              "      <td>Y</td>\n",
              "      <td>explained</td>\n",
              "    </tr>\n",
              "    <tr>\n",
              "      <th>3</th>\n",
              "      <td>2011-02-21</td>\n",
              "      <td>20:56</td>\n",
              "      <td>13</td>\n",
              "      <td>1</td>\n",
              "      <td>41.496944</td>\n",
              "      <td>-71.367778</td>\n",
              "      <td>Y</td>\n",
              "      <td>explained</td>\n",
              "    </tr>\n",
              "    <tr>\n",
              "      <th>4</th>\n",
              "      <td>1991-03-09</td>\n",
              "      <td>11:42</td>\n",
              "      <td>17</td>\n",
              "      <td>1</td>\n",
              "      <td>47.606389</td>\n",
              "      <td>-122.330833</td>\n",
              "      <td>Y</td>\n",
              "      <td>explained</td>\n",
              "    </tr>\n",
              "  </tbody>\n",
              "</table>\n",
              "</div>"
            ],
            "text/plain": [
              "    eventDate eventTime  duration  ...   longitude  sighting  researchOutcome\n",
              "0  1977-03-31     23:46         4  ... -122.578889         Y        explained\n",
              "1  1982-11-15     22:04         4  ...   -1.034894         Y        explained\n",
              "2  1992-12-07     19:01        49  ...  -92.333889         Y        explained\n",
              "3  2011-02-21     20:56        13  ...  -71.367778         Y        explained\n",
              "4  1991-03-09     11:42        17  ... -122.330833         Y        explained\n",
              "\n",
              "[5 rows x 8 columns]"
            ]
          },
          "metadata": {
            "tags": []
          },
          "execution_count": 24
        }
      ]
    },
    {
      "cell_type": "code",
      "metadata": {
        "id": "xtYAmSOU7efE",
        "colab": {
          "base_uri": "https://localhost:8080/",
          "height": 206
        },
        "outputId": "1c607a9e-0b81-4098-e5d6-7e7da122008d"
      },
      "source": [
        "df=df.drop(columns=[\"witnesses\"],axis=1)\n",
        "df.head()"
      ],
      "execution_count": null,
      "outputs": [
        {
          "output_type": "execute_result",
          "data": {
            "text/html": [
              "<div>\n",
              "<style scoped>\n",
              "    .dataframe tbody tr th:only-of-type {\n",
              "        vertical-align: middle;\n",
              "    }\n",
              "\n",
              "    .dataframe tbody tr th {\n",
              "        vertical-align: top;\n",
              "    }\n",
              "\n",
              "    .dataframe thead th {\n",
              "        text-align: right;\n",
              "    }\n",
              "</style>\n",
              "<table border=\"1\" class=\"dataframe\">\n",
              "  <thead>\n",
              "    <tr style=\"text-align: right;\">\n",
              "      <th></th>\n",
              "      <th>eventDate</th>\n",
              "      <th>eventTime</th>\n",
              "      <th>duration</th>\n",
              "      <th>latitude</th>\n",
              "      <th>longitude</th>\n",
              "      <th>sighting</th>\n",
              "      <th>researchOutcome</th>\n",
              "    </tr>\n",
              "  </thead>\n",
              "  <tbody>\n",
              "    <tr>\n",
              "      <th>0</th>\n",
              "      <td>1977-03-31</td>\n",
              "      <td>23:46</td>\n",
              "      <td>4</td>\n",
              "      <td>47.329444</td>\n",
              "      <td>-122.578889</td>\n",
              "      <td>Y</td>\n",
              "      <td>explained</td>\n",
              "    </tr>\n",
              "    <tr>\n",
              "      <th>1</th>\n",
              "      <td>1982-11-15</td>\n",
              "      <td>22:04</td>\n",
              "      <td>4</td>\n",
              "      <td>52.664913</td>\n",
              "      <td>-1.034894</td>\n",
              "      <td>Y</td>\n",
              "      <td>explained</td>\n",
              "    </tr>\n",
              "    <tr>\n",
              "      <th>2</th>\n",
              "      <td>1992-12-07</td>\n",
              "      <td>19:01</td>\n",
              "      <td>49</td>\n",
              "      <td>38.951667</td>\n",
              "      <td>-92.333889</td>\n",
              "      <td>Y</td>\n",
              "      <td>explained</td>\n",
              "    </tr>\n",
              "    <tr>\n",
              "      <th>3</th>\n",
              "      <td>2011-02-21</td>\n",
              "      <td>20:56</td>\n",
              "      <td>13</td>\n",
              "      <td>41.496944</td>\n",
              "      <td>-71.367778</td>\n",
              "      <td>Y</td>\n",
              "      <td>explained</td>\n",
              "    </tr>\n",
              "    <tr>\n",
              "      <th>4</th>\n",
              "      <td>1991-03-09</td>\n",
              "      <td>11:42</td>\n",
              "      <td>17</td>\n",
              "      <td>47.606389</td>\n",
              "      <td>-122.330833</td>\n",
              "      <td>Y</td>\n",
              "      <td>explained</td>\n",
              "    </tr>\n",
              "  </tbody>\n",
              "</table>\n",
              "</div>"
            ],
            "text/plain": [
              "    eventDate eventTime  duration  ...   longitude  sighting researchOutcome\n",
              "0  1977-03-31     23:46         4  ... -122.578889         Y       explained\n",
              "1  1982-11-15     22:04         4  ...   -1.034894         Y       explained\n",
              "2  1992-12-07     19:01        49  ...  -92.333889         Y       explained\n",
              "3  2011-02-21     20:56        13  ...  -71.367778         Y       explained\n",
              "4  1991-03-09     11:42        17  ... -122.330833         Y       explained\n",
              "\n",
              "[5 rows x 7 columns]"
            ]
          },
          "metadata": {
            "tags": []
          },
          "execution_count": 25
        }
      ]
    },
    {
      "cell_type": "code",
      "metadata": {
        "id": "HwaI7-l27rGz",
        "colab": {
          "base_uri": "https://localhost:8080/",
          "height": 206
        },
        "outputId": "6b943bcf-72df-483d-9a90-3efc4b7e1378"
      },
      "source": [
        "df=df.drop(columns=[\"sighting\"],axis=1)\n",
        "df.head()"
      ],
      "execution_count": null,
      "outputs": [
        {
          "output_type": "execute_result",
          "data": {
            "text/html": [
              "<div>\n",
              "<style scoped>\n",
              "    .dataframe tbody tr th:only-of-type {\n",
              "        vertical-align: middle;\n",
              "    }\n",
              "\n",
              "    .dataframe tbody tr th {\n",
              "        vertical-align: top;\n",
              "    }\n",
              "\n",
              "    .dataframe thead th {\n",
              "        text-align: right;\n",
              "    }\n",
              "</style>\n",
              "<table border=\"1\" class=\"dataframe\">\n",
              "  <thead>\n",
              "    <tr style=\"text-align: right;\">\n",
              "      <th></th>\n",
              "      <th>eventDate</th>\n",
              "      <th>eventTime</th>\n",
              "      <th>duration</th>\n",
              "      <th>latitude</th>\n",
              "      <th>longitude</th>\n",
              "      <th>researchOutcome</th>\n",
              "    </tr>\n",
              "  </thead>\n",
              "  <tbody>\n",
              "    <tr>\n",
              "      <th>0</th>\n",
              "      <td>1977-03-31</td>\n",
              "      <td>23:46</td>\n",
              "      <td>4</td>\n",
              "      <td>47.329444</td>\n",
              "      <td>-122.578889</td>\n",
              "      <td>explained</td>\n",
              "    </tr>\n",
              "    <tr>\n",
              "      <th>1</th>\n",
              "      <td>1982-11-15</td>\n",
              "      <td>22:04</td>\n",
              "      <td>4</td>\n",
              "      <td>52.664913</td>\n",
              "      <td>-1.034894</td>\n",
              "      <td>explained</td>\n",
              "    </tr>\n",
              "    <tr>\n",
              "      <th>2</th>\n",
              "      <td>1992-12-07</td>\n",
              "      <td>19:01</td>\n",
              "      <td>49</td>\n",
              "      <td>38.951667</td>\n",
              "      <td>-92.333889</td>\n",
              "      <td>explained</td>\n",
              "    </tr>\n",
              "    <tr>\n",
              "      <th>3</th>\n",
              "      <td>2011-02-21</td>\n",
              "      <td>20:56</td>\n",
              "      <td>13</td>\n",
              "      <td>41.496944</td>\n",
              "      <td>-71.367778</td>\n",
              "      <td>explained</td>\n",
              "    </tr>\n",
              "    <tr>\n",
              "      <th>4</th>\n",
              "      <td>1991-03-09</td>\n",
              "      <td>11:42</td>\n",
              "      <td>17</td>\n",
              "      <td>47.606389</td>\n",
              "      <td>-122.330833</td>\n",
              "      <td>explained</td>\n",
              "    </tr>\n",
              "  </tbody>\n",
              "</table>\n",
              "</div>"
            ],
            "text/plain": [
              "    eventDate eventTime  duration   latitude   longitude researchOutcome\n",
              "0  1977-03-31     23:46         4  47.329444 -122.578889       explained\n",
              "1  1982-11-15     22:04         4  52.664913   -1.034894       explained\n",
              "2  1992-12-07     19:01        49  38.951667  -92.333889       explained\n",
              "3  2011-02-21     20:56        13  41.496944  -71.367778       explained\n",
              "4  1991-03-09     11:42        17  47.606389 -122.330833       explained"
            ]
          },
          "metadata": {
            "tags": []
          },
          "execution_count": 26
        }
      ]
    },
    {
      "cell_type": "code",
      "metadata": {
        "id": "eS9pKsEU79ql",
        "colab": {
          "base_uri": "https://localhost:8080/",
          "height": 206
        },
        "outputId": "ba5d98f3-be83-4cd9-e88a-5c595c1ac083"
      },
      "source": [
        "df=df.drop(columns=[\"researchOutcome\"],axis=1)\n",
        "df.head()"
      ],
      "execution_count": null,
      "outputs": [
        {
          "output_type": "execute_result",
          "data": {
            "text/html": [
              "<div>\n",
              "<style scoped>\n",
              "    .dataframe tbody tr th:only-of-type {\n",
              "        vertical-align: middle;\n",
              "    }\n",
              "\n",
              "    .dataframe tbody tr th {\n",
              "        vertical-align: top;\n",
              "    }\n",
              "\n",
              "    .dataframe thead th {\n",
              "        text-align: right;\n",
              "    }\n",
              "</style>\n",
              "<table border=\"1\" class=\"dataframe\">\n",
              "  <thead>\n",
              "    <tr style=\"text-align: right;\">\n",
              "      <th></th>\n",
              "      <th>eventDate</th>\n",
              "      <th>eventTime</th>\n",
              "      <th>duration</th>\n",
              "      <th>latitude</th>\n",
              "      <th>longitude</th>\n",
              "    </tr>\n",
              "  </thead>\n",
              "  <tbody>\n",
              "    <tr>\n",
              "      <th>0</th>\n",
              "      <td>1977-03-31</td>\n",
              "      <td>23:46</td>\n",
              "      <td>4</td>\n",
              "      <td>47.329444</td>\n",
              "      <td>-122.578889</td>\n",
              "    </tr>\n",
              "    <tr>\n",
              "      <th>1</th>\n",
              "      <td>1982-11-15</td>\n",
              "      <td>22:04</td>\n",
              "      <td>4</td>\n",
              "      <td>52.664913</td>\n",
              "      <td>-1.034894</td>\n",
              "    </tr>\n",
              "    <tr>\n",
              "      <th>2</th>\n",
              "      <td>1992-12-07</td>\n",
              "      <td>19:01</td>\n",
              "      <td>49</td>\n",
              "      <td>38.951667</td>\n",
              "      <td>-92.333889</td>\n",
              "    </tr>\n",
              "    <tr>\n",
              "      <th>3</th>\n",
              "      <td>2011-02-21</td>\n",
              "      <td>20:56</td>\n",
              "      <td>13</td>\n",
              "      <td>41.496944</td>\n",
              "      <td>-71.367778</td>\n",
              "    </tr>\n",
              "    <tr>\n",
              "      <th>4</th>\n",
              "      <td>1991-03-09</td>\n",
              "      <td>11:42</td>\n",
              "      <td>17</td>\n",
              "      <td>47.606389</td>\n",
              "      <td>-122.330833</td>\n",
              "    </tr>\n",
              "  </tbody>\n",
              "</table>\n",
              "</div>"
            ],
            "text/plain": [
              "    eventDate eventTime  duration   latitude   longitude\n",
              "0  1977-03-31     23:46         4  47.329444 -122.578889\n",
              "1  1982-11-15     22:04         4  52.664913   -1.034894\n",
              "2  1992-12-07     19:01        49  38.951667  -92.333889\n",
              "3  2011-02-21     20:56        13  41.496944  -71.367778\n",
              "4  1991-03-09     11:42        17  47.606389 -122.330833"
            ]
          },
          "metadata": {
            "tags": []
          },
          "execution_count": 27
        }
      ]
    },
    {
      "cell_type": "code",
      "metadata": {
        "id": "lAmXXbhB8InS",
        "colab": {
          "base_uri": "https://localhost:8080/",
          "height": 206
        },
        "outputId": "8b22fc92-4c5e-424b-b60c-d2eb840ef9fa"
      },
      "source": [
        "str1=\"1977-03-31\"\n",
        "event_year=str1[:4]\n",
        "event_month=str1[5:7]\n",
        "event_month\n",
        "\n",
        "df[\"eventYear\"]=df[\"eventDate\"].apply(lambda x: x[:4])\n",
        "df[\"eventMonth\"]=df[\"eventDate\"].apply(lambda x: x[5:7])\n",
        "df=df.drop(columns=['eventDate'])\n",
        "df.head()"
      ],
      "execution_count": null,
      "outputs": [
        {
          "output_type": "execute_result",
          "data": {
            "text/html": [
              "<div>\n",
              "<style scoped>\n",
              "    .dataframe tbody tr th:only-of-type {\n",
              "        vertical-align: middle;\n",
              "    }\n",
              "\n",
              "    .dataframe tbody tr th {\n",
              "        vertical-align: top;\n",
              "    }\n",
              "\n",
              "    .dataframe thead th {\n",
              "        text-align: right;\n",
              "    }\n",
              "</style>\n",
              "<table border=\"1\" class=\"dataframe\">\n",
              "  <thead>\n",
              "    <tr style=\"text-align: right;\">\n",
              "      <th></th>\n",
              "      <th>eventTime</th>\n",
              "      <th>duration</th>\n",
              "      <th>latitude</th>\n",
              "      <th>longitude</th>\n",
              "      <th>eventYear</th>\n",
              "      <th>eventMonth</th>\n",
              "    </tr>\n",
              "  </thead>\n",
              "  <tbody>\n",
              "    <tr>\n",
              "      <th>0</th>\n",
              "      <td>23:46</td>\n",
              "      <td>4</td>\n",
              "      <td>47.329444</td>\n",
              "      <td>-122.578889</td>\n",
              "      <td>1977</td>\n",
              "      <td>03</td>\n",
              "    </tr>\n",
              "    <tr>\n",
              "      <th>1</th>\n",
              "      <td>22:04</td>\n",
              "      <td>4</td>\n",
              "      <td>52.664913</td>\n",
              "      <td>-1.034894</td>\n",
              "      <td>1982</td>\n",
              "      <td>11</td>\n",
              "    </tr>\n",
              "    <tr>\n",
              "      <th>2</th>\n",
              "      <td>19:01</td>\n",
              "      <td>49</td>\n",
              "      <td>38.951667</td>\n",
              "      <td>-92.333889</td>\n",
              "      <td>1992</td>\n",
              "      <td>12</td>\n",
              "    </tr>\n",
              "    <tr>\n",
              "      <th>3</th>\n",
              "      <td>20:56</td>\n",
              "      <td>13</td>\n",
              "      <td>41.496944</td>\n",
              "      <td>-71.367778</td>\n",
              "      <td>2011</td>\n",
              "      <td>02</td>\n",
              "    </tr>\n",
              "    <tr>\n",
              "      <th>4</th>\n",
              "      <td>11:42</td>\n",
              "      <td>17</td>\n",
              "      <td>47.606389</td>\n",
              "      <td>-122.330833</td>\n",
              "      <td>1991</td>\n",
              "      <td>03</td>\n",
              "    </tr>\n",
              "  </tbody>\n",
              "</table>\n",
              "</div>"
            ],
            "text/plain": [
              "  eventTime  duration   latitude   longitude eventYear eventMonth\n",
              "0     23:46         4  47.329444 -122.578889      1977         03\n",
              "1     22:04         4  52.664913   -1.034894      1982         11\n",
              "2     19:01        49  38.951667  -92.333889      1992         12\n",
              "3     20:56        13  41.496944  -71.367778      2011         02\n",
              "4     11:42        17  47.606389 -122.330833      1991         03"
            ]
          },
          "metadata": {
            "tags": []
          },
          "execution_count": 28
        }
      ]
    },
    {
      "cell_type": "code",
      "metadata": {
        "id": "kjvon3wI9EEY",
        "colab": {
          "base_uri": "https://localhost:8080/",
          "height": 206
        },
        "outputId": "dfa47353-b86d-41a0-dcb7-dff342d30f44"
      },
      "source": [
        "df[\"eventHour\"]=df[\"eventTime\"].apply(lambda x: x[:2])\n",
        "df=df.drop(columns=['eventTime'])\n",
        "df.head()"
      ],
      "execution_count": null,
      "outputs": [
        {
          "output_type": "execute_result",
          "data": {
            "text/html": [
              "<div>\n",
              "<style scoped>\n",
              "    .dataframe tbody tr th:only-of-type {\n",
              "        vertical-align: middle;\n",
              "    }\n",
              "\n",
              "    .dataframe tbody tr th {\n",
              "        vertical-align: top;\n",
              "    }\n",
              "\n",
              "    .dataframe thead th {\n",
              "        text-align: right;\n",
              "    }\n",
              "</style>\n",
              "<table border=\"1\" class=\"dataframe\">\n",
              "  <thead>\n",
              "    <tr style=\"text-align: right;\">\n",
              "      <th></th>\n",
              "      <th>duration</th>\n",
              "      <th>latitude</th>\n",
              "      <th>longitude</th>\n",
              "      <th>eventYear</th>\n",
              "      <th>eventMonth</th>\n",
              "      <th>eventHour</th>\n",
              "    </tr>\n",
              "  </thead>\n",
              "  <tbody>\n",
              "    <tr>\n",
              "      <th>0</th>\n",
              "      <td>4</td>\n",
              "      <td>47.329444</td>\n",
              "      <td>-122.578889</td>\n",
              "      <td>1977</td>\n",
              "      <td>03</td>\n",
              "      <td>23</td>\n",
              "    </tr>\n",
              "    <tr>\n",
              "      <th>1</th>\n",
              "      <td>4</td>\n",
              "      <td>52.664913</td>\n",
              "      <td>-1.034894</td>\n",
              "      <td>1982</td>\n",
              "      <td>11</td>\n",
              "      <td>22</td>\n",
              "    </tr>\n",
              "    <tr>\n",
              "      <th>2</th>\n",
              "      <td>49</td>\n",
              "      <td>38.951667</td>\n",
              "      <td>-92.333889</td>\n",
              "      <td>1992</td>\n",
              "      <td>12</td>\n",
              "      <td>19</td>\n",
              "    </tr>\n",
              "    <tr>\n",
              "      <th>3</th>\n",
              "      <td>13</td>\n",
              "      <td>41.496944</td>\n",
              "      <td>-71.367778</td>\n",
              "      <td>2011</td>\n",
              "      <td>02</td>\n",
              "      <td>20</td>\n",
              "    </tr>\n",
              "    <tr>\n",
              "      <th>4</th>\n",
              "      <td>17</td>\n",
              "      <td>47.606389</td>\n",
              "      <td>-122.330833</td>\n",
              "      <td>1991</td>\n",
              "      <td>03</td>\n",
              "      <td>11</td>\n",
              "    </tr>\n",
              "  </tbody>\n",
              "</table>\n",
              "</div>"
            ],
            "text/plain": [
              "   duration   latitude   longitude eventYear eventMonth eventHour\n",
              "0         4  47.329444 -122.578889      1977         03        23\n",
              "1         4  52.664913   -1.034894      1982         11        22\n",
              "2        49  38.951667  -92.333889      1992         12        19\n",
              "3        13  41.496944  -71.367778      2011         02        20\n",
              "4        17  47.606389 -122.330833      1991         03        11"
            ]
          },
          "metadata": {
            "tags": []
          },
          "execution_count": 29
        }
      ]
    },
    {
      "cell_type": "code",
      "metadata": {
        "id": "x6OsVGXh9qOV",
        "colab": {
          "base_uri": "https://localhost:8080/",
          "height": 425
        },
        "outputId": "a72e6c12-005d-454a-a07f-a738f2e44e9e"
      },
      "source": [
        "df_grp_month=df.groupby(by=\"eventMonth\",as_index=False).count()\n",
        "df_grp_month"
      ],
      "execution_count": null,
      "outputs": [
        {
          "output_type": "execute_result",
          "data": {
            "text/html": [
              "<div>\n",
              "<style scoped>\n",
              "    .dataframe tbody tr th:only-of-type {\n",
              "        vertical-align: middle;\n",
              "    }\n",
              "\n",
              "    .dataframe tbody tr th {\n",
              "        vertical-align: top;\n",
              "    }\n",
              "\n",
              "    .dataframe thead th {\n",
              "        text-align: right;\n",
              "    }\n",
              "</style>\n",
              "<table border=\"1\" class=\"dataframe\">\n",
              "  <thead>\n",
              "    <tr style=\"text-align: right;\">\n",
              "      <th></th>\n",
              "      <th>eventMonth</th>\n",
              "      <th>duration</th>\n",
              "      <th>latitude</th>\n",
              "      <th>longitude</th>\n",
              "      <th>eventYear</th>\n",
              "      <th>eventHour</th>\n",
              "    </tr>\n",
              "  </thead>\n",
              "  <tbody>\n",
              "    <tr>\n",
              "      <th>0</th>\n",
              "      <td>01</td>\n",
              "      <td>1088</td>\n",
              "      <td>1088</td>\n",
              "      <td>1088</td>\n",
              "      <td>1088</td>\n",
              "      <td>1088</td>\n",
              "    </tr>\n",
              "    <tr>\n",
              "      <th>1</th>\n",
              "      <td>02</td>\n",
              "      <td>987</td>\n",
              "      <td>987</td>\n",
              "      <td>987</td>\n",
              "      <td>987</td>\n",
              "      <td>987</td>\n",
              "    </tr>\n",
              "    <tr>\n",
              "      <th>2</th>\n",
              "      <td>03</td>\n",
              "      <td>1063</td>\n",
              "      <td>1063</td>\n",
              "      <td>1063</td>\n",
              "      <td>1063</td>\n",
              "      <td>1063</td>\n",
              "    </tr>\n",
              "    <tr>\n",
              "      <th>3</th>\n",
              "      <td>04</td>\n",
              "      <td>1049</td>\n",
              "      <td>1049</td>\n",
              "      <td>1049</td>\n",
              "      <td>1049</td>\n",
              "      <td>1049</td>\n",
              "    </tr>\n",
              "    <tr>\n",
              "      <th>4</th>\n",
              "      <td>05</td>\n",
              "      <td>1139</td>\n",
              "      <td>1139</td>\n",
              "      <td>1139</td>\n",
              "      <td>1139</td>\n",
              "      <td>1139</td>\n",
              "    </tr>\n",
              "    <tr>\n",
              "      <th>5</th>\n",
              "      <td>06</td>\n",
              "      <td>1049</td>\n",
              "      <td>1049</td>\n",
              "      <td>1049</td>\n",
              "      <td>1049</td>\n",
              "      <td>1049</td>\n",
              "    </tr>\n",
              "    <tr>\n",
              "      <th>6</th>\n",
              "      <td>07</td>\n",
              "      <td>1072</td>\n",
              "      <td>1072</td>\n",
              "      <td>1072</td>\n",
              "      <td>1072</td>\n",
              "      <td>1072</td>\n",
              "    </tr>\n",
              "    <tr>\n",
              "      <th>7</th>\n",
              "      <td>08</td>\n",
              "      <td>1101</td>\n",
              "      <td>1101</td>\n",
              "      <td>1101</td>\n",
              "      <td>1101</td>\n",
              "      <td>1101</td>\n",
              "    </tr>\n",
              "    <tr>\n",
              "      <th>8</th>\n",
              "      <td>09</td>\n",
              "      <td>1091</td>\n",
              "      <td>1091</td>\n",
              "      <td>1091</td>\n",
              "      <td>1091</td>\n",
              "      <td>1091</td>\n",
              "    </tr>\n",
              "    <tr>\n",
              "      <th>9</th>\n",
              "      <td>10</td>\n",
              "      <td>1067</td>\n",
              "      <td>1067</td>\n",
              "      <td>1067</td>\n",
              "      <td>1067</td>\n",
              "      <td>1067</td>\n",
              "    </tr>\n",
              "    <tr>\n",
              "      <th>10</th>\n",
              "      <td>11</td>\n",
              "      <td>1031</td>\n",
              "      <td>1031</td>\n",
              "      <td>1031</td>\n",
              "      <td>1031</td>\n",
              "      <td>1031</td>\n",
              "    </tr>\n",
              "    <tr>\n",
              "      <th>11</th>\n",
              "      <td>12</td>\n",
              "      <td>1085</td>\n",
              "      <td>1085</td>\n",
              "      <td>1085</td>\n",
              "      <td>1085</td>\n",
              "      <td>1085</td>\n",
              "    </tr>\n",
              "  </tbody>\n",
              "</table>\n",
              "</div>"
            ],
            "text/plain": [
              "   eventMonth  duration  latitude  longitude  eventYear  eventHour\n",
              "0          01      1088      1088       1088       1088       1088\n",
              "1          02       987       987        987        987        987\n",
              "2          03      1063      1063       1063       1063       1063\n",
              "3          04      1049      1049       1049       1049       1049\n",
              "4          05      1139      1139       1139       1139       1139\n",
              "5          06      1049      1049       1049       1049       1049\n",
              "6          07      1072      1072       1072       1072       1072\n",
              "7          08      1101      1101       1101       1101       1101\n",
              "8          09      1091      1091       1091       1091       1091\n",
              "9          10      1067      1067       1067       1067       1067\n",
              "10         11      1031      1031       1031       1031       1031\n",
              "11         12      1085      1085       1085       1085       1085"
            ]
          },
          "metadata": {
            "tags": []
          },
          "execution_count": 30
        }
      ]
    },
    {
      "cell_type": "code",
      "metadata": {
        "id": "B2VV4VuW-kBI",
        "colab": {
          "base_uri": "https://localhost:8080/",
          "height": 160
        },
        "outputId": "3c50727b-7838-4e07-882b-77462ac79847"
      },
      "source": [
        "import matplotlib.pyplot as plt\n",
        "plt.plot(df_grp_month[\"eventMonth\"],df_grp_month[\"duration\"])\n",
        "plt.show()"
      ],
      "execution_count": null,
      "outputs": [
        {
          "output_type": "display_data",
          "data": {
            "image/png": "[encoded data removed]",
            "text/plain": [
              "<Figure size 1440x216 with 1 Axes>"
            ]
          },
          "metadata": {
            "tags": [],
            "needs_background": "light"
          }
        }
      ]
    },
    {
      "cell_type": "code",
      "metadata": {
        "id": "Y4pEiXG4-IAA",
        "colab": {
          "base_uri": "https://localhost:8080/",
          "height": 161
        },
        "outputId": "194b4157-140e-4159-e36f-2d0d6bf70273"
      },
      "source": [
        "df_grp_hour=df.groupby(by=\"eventHour\",as_index=False).count()\n",
        "plt.plot(df_grp_hour[\"eventHour\"],df_grp_hour[\"duration\"])\n",
        "plt.show()"
      ],
      "execution_count": null,
      "outputs": [
        {
          "output_type": "display_data",
          "data": {
            "image/png": "[encoded data removed]",
            "text/plain": [
              "<Figure size 1440x216 with 1 Axes>"
            ]
          },
          "metadata": {
            "tags": [],
            "needs_background": "light"
          }
        }
      ]
    },
    {
      "cell_type": "code",
      "metadata": {
        "id": "mhFcMQl8CrRt",
        "colab": {
          "base_uri": "https://localhost:8080/",
          "height": 206
        },
        "outputId": "092857a7-85d4-48d7-9ba5-98dd8cdadad1"
      },
      "source": [
        "plt.rcParams[\"figure.figsize\"] = (20,3)\n",
        "df.head()\n"
      ],
      "execution_count": null,
      "outputs": [
        {
          "output_type": "execute_result",
          "data": {
            "text/html": [
              "<div>\n",
              "<style scoped>\n",
              "    .dataframe tbody tr th:only-of-type {\n",
              "        vertical-align: middle;\n",
              "    }\n",
              "\n",
              "    .dataframe tbody tr th {\n",
              "        vertical-align: top;\n",
              "    }\n",
              "\n",
              "    .dataframe thead th {\n",
              "        text-align: right;\n",
              "    }\n",
              "</style>\n",
              "<table border=\"1\" class=\"dataframe\">\n",
              "  <thead>\n",
              "    <tr style=\"text-align: right;\">\n",
              "      <th></th>\n",
              "      <th>duration</th>\n",
              "      <th>latitude</th>\n",
              "      <th>longitude</th>\n",
              "      <th>eventYear</th>\n",
              "      <th>eventMonth</th>\n",
              "      <th>eventHour</th>\n",
              "    </tr>\n",
              "  </thead>\n",
              "  <tbody>\n",
              "    <tr>\n",
              "      <th>0</th>\n",
              "      <td>4</td>\n",
              "      <td>47.329444</td>\n",
              "      <td>-122.578889</td>\n",
              "      <td>1977</td>\n",
              "      <td>03</td>\n",
              "      <td>23</td>\n",
              "    </tr>\n",
              "    <tr>\n",
              "      <th>1</th>\n",
              "      <td>4</td>\n",
              "      <td>52.664913</td>\n",
              "      <td>-1.034894</td>\n",
              "      <td>1982</td>\n",
              "      <td>11</td>\n",
              "      <td>22</td>\n",
              "    </tr>\n",
              "    <tr>\n",
              "      <th>2</th>\n",
              "      <td>49</td>\n",
              "      <td>38.951667</td>\n",
              "      <td>-92.333889</td>\n",
              "      <td>1992</td>\n",
              "      <td>12</td>\n",
              "      <td>19</td>\n",
              "    </tr>\n",
              "    <tr>\n",
              "      <th>3</th>\n",
              "      <td>13</td>\n",
              "      <td>41.496944</td>\n",
              "      <td>-71.367778</td>\n",
              "      <td>2011</td>\n",
              "      <td>02</td>\n",
              "      <td>20</td>\n",
              "    </tr>\n",
              "    <tr>\n",
              "      <th>4</th>\n",
              "      <td>17</td>\n",
              "      <td>47.606389</td>\n",
              "      <td>-122.330833</td>\n",
              "      <td>1991</td>\n",
              "      <td>03</td>\n",
              "      <td>11</td>\n",
              "    </tr>\n",
              "  </tbody>\n",
              "</table>\n",
              "</div>"
            ],
            "text/plain": [
              "   duration   latitude   longitude eventYear eventMonth eventHour\n",
              "0         4  47.329444 -122.578889      1977         03        23\n",
              "1         4  52.664913   -1.034894      1982         11        22\n",
              "2        49  38.951667  -92.333889      1992         12        19\n",
              "3        13  41.496944  -71.367778      2011         02        20\n",
              "4        17  47.606389 -122.330833      1991         03        11"
            ]
          },
          "metadata": {
            "tags": []
          },
          "execution_count": 33
        }
      ]
    },
    {
      "cell_type": "code",
      "metadata": {
        "id": "BkwK4UzWC3fw",
        "colab": {
          "base_uri": "https://localhost:8080/",
          "height": 161
        },
        "outputId": "f2623e2e-9d06-47bb-f236-4fb19ad38f9d"
      },
      "source": [
        "df_grp_year=df.groupby(by=\"eventYear\",as_index=False).count()\n",
        "plt.plot(df_grp_year[\"eventYear\"],df_grp_year[\"duration\"])\n",
        "plt.show()"
      ],
      "execution_count": null,
      "outputs": [
        {
          "output_type": "display_data",
          "data": {
            "image/png": "[encoded data removed]",
            "text/plain": [
              "<Figure size 1440x216 with 1 Axes>"
            ]
          },
          "metadata": {
            "tags": [],
            "needs_background": "light"
          }
        }
      ]
    },
    {
      "cell_type": "code",
      "metadata": {
        "id": "aOnACQ6zDeCk",
        "colab": {
          "base_uri": "https://localhost:8080/",
          "height": 265
        },
        "outputId": "f82fa5f8-1cca-4b5f-817a-15b90fca6f63"
      },
      "source": [
        "df_grp_duration=df.groupby(by=\"duration\",as_index=False).count()\n",
        "print(df_grp_duration.head())\n",
        "plt.plot(df_grp_duration[\"duration\"],df_grp_duration[\"eventMonth\"])\n",
        "plt.show()"
      ],
      "execution_count": null,
      "outputs": [
        {
          "output_type": "stream",
          "text": [
            "   duration  latitude  longitude  eventYear  eventMonth  eventHour\n",
            "0         1       137        137        137         137        137\n",
            "1         2       125        125        125         125        125\n",
            "2         3       129        129        129         129        129\n",
            "3         4       149        149        149         149        149\n",
            "4         5       125        125        125         125        125\n"
          ],
          "name": "stdout"
        },
        {
          "output_type": "display_data",
          "data": {
            "image/png": "[encoded data removed]",
            "text/plain": [
              "<Figure size 1440x216 with 1 Axes>"
            ]
          },
          "metadata": {
            "tags": [],
            "needs_background": "light"
          }
        }
      ]
    },
    {
      "cell_type": "code",
      "metadata": {
        "id": "V5Fb7BwgE5Qs",
        "colab": {
          "base_uri": "https://localhost:8080/",
          "height": 206
        },
        "outputId": "dccae79a-a2a2-4529-c11d-c3403fa03eb7"
      },
      "source": [
        "df.head()"
      ],
      "execution_count": null,
      "outputs": [
        {
          "output_type": "execute_result",
          "data": {
            "text/html": [
              "<div>\n",
              "<style scoped>\n",
              "    .dataframe tbody tr th:only-of-type {\n",
              "        vertical-align: middle;\n",
              "    }\n",
              "\n",
              "    .dataframe tbody tr th {\n",
              "        vertical-align: top;\n",
              "    }\n",
              "\n",
              "    .dataframe thead th {\n",
              "        text-align: right;\n",
              "    }\n",
              "</style>\n",
              "<table border=\"1\" class=\"dataframe\">\n",
              "  <thead>\n",
              "    <tr style=\"text-align: right;\">\n",
              "      <th></th>\n",
              "      <th>duration</th>\n",
              "      <th>latitude</th>\n",
              "      <th>longitude</th>\n",
              "      <th>eventYear</th>\n",
              "      <th>eventMonth</th>\n",
              "      <th>eventHour</th>\n",
              "    </tr>\n",
              "  </thead>\n",
              "  <tbody>\n",
              "    <tr>\n",
              "      <th>0</th>\n",
              "      <td>4</td>\n",
              "      <td>47.329444</td>\n",
              "      <td>-122.578889</td>\n",
              "      <td>1977</td>\n",
              "      <td>03</td>\n",
              "      <td>23</td>\n",
              "    </tr>\n",
              "    <tr>\n",
              "      <th>1</th>\n",
              "      <td>4</td>\n",
              "      <td>52.664913</td>\n",
              "      <td>-1.034894</td>\n",
              "      <td>1982</td>\n",
              "      <td>11</td>\n",
              "      <td>22</td>\n",
              "    </tr>\n",
              "    <tr>\n",
              "      <th>2</th>\n",
              "      <td>49</td>\n",
              "      <td>38.951667</td>\n",
              "      <td>-92.333889</td>\n",
              "      <td>1992</td>\n",
              "      <td>12</td>\n",
              "      <td>19</td>\n",
              "    </tr>\n",
              "    <tr>\n",
              "      <th>3</th>\n",
              "      <td>13</td>\n",
              "      <td>41.496944</td>\n",
              "      <td>-71.367778</td>\n",
              "      <td>2011</td>\n",
              "      <td>02</td>\n",
              "      <td>20</td>\n",
              "    </tr>\n",
              "    <tr>\n",
              "      <th>4</th>\n",
              "      <td>17</td>\n",
              "      <td>47.606389</td>\n",
              "      <td>-122.330833</td>\n",
              "      <td>1991</td>\n",
              "      <td>03</td>\n",
              "      <td>11</td>\n",
              "    </tr>\n",
              "  </tbody>\n",
              "</table>\n",
              "</div>"
            ],
            "text/plain": [
              "   duration   latitude   longitude eventYear eventMonth eventHour\n",
              "0         4  47.329444 -122.578889      1977         03        23\n",
              "1         4  52.664913   -1.034894      1982         11        22\n",
              "2        49  38.951667  -92.333889      1992         12        19\n",
              "3        13  41.496944  -71.367778      2011         02        20\n",
              "4        17  47.606389 -122.330833      1991         03        11"
            ]
          },
          "metadata": {
            "tags": []
          },
          "execution_count": 36
        }
      ]
    },
    {
      "cell_type": "code",
      "metadata": {
        "id": "_o04zYPFFPta",
        "colab": {
          "base_uri": "https://localhost:8080/",
          "height": 206
        },
        "outputId": "41b0c475-1a45-4cfd-e425-4e99d3d06079"
      },
      "source": [
        "from sklearn.preprocessing import StandardScaler\n",
        "ss=StandardScaler()\n",
        "\n",
        "df_ss_array=ss.fit_transform(df)\n",
        "\n",
        "df_ss=pd.DataFrame(df_ss_array,index=df.index,columns=df.columns)\n",
        "df_ss.head()"
      ],
      "execution_count": null,
      "outputs": [
        {
          "output_type": "execute_result",
          "data": {
            "text/html": [
              "<div>\n",
              "<style scoped>\n",
              "    .dataframe tbody tr th:only-of-type {\n",
              "        vertical-align: middle;\n",
              "    }\n",
              "\n",
              "    .dataframe tbody tr th {\n",
              "        vertical-align: top;\n",
              "    }\n",
              "\n",
              "    .dataframe thead th {\n",
              "        text-align: right;\n",
              "    }\n",
              "</style>\n",
              "<table border=\"1\" class=\"dataframe\">\n",
              "  <thead>\n",
              "    <tr style=\"text-align: right;\">\n",
              "      <th></th>\n",
              "      <th>duration</th>\n",
              "      <th>latitude</th>\n",
              "      <th>longitude</th>\n",
              "      <th>eventYear</th>\n",
              "      <th>eventMonth</th>\n",
              "      <th>eventHour</th>\n",
              "    </tr>\n",
              "  </thead>\n",
              "  <tbody>\n",
              "    <tr>\n",
              "      <th>0</th>\n",
              "      <td>-1.621281</td>\n",
              "      <td>0.956467</td>\n",
              "      <td>-0.921415</td>\n",
              "      <td>-1.202151</td>\n",
              "      <td>-1.023560</td>\n",
              "      <td>1.660639</td>\n",
              "    </tr>\n",
              "    <tr>\n",
              "      <th>1</th>\n",
              "      <td>-1.621281</td>\n",
              "      <td>1.489850</td>\n",
              "      <td>2.223684</td>\n",
              "      <td>-0.850880</td>\n",
              "      <td>1.302788</td>\n",
              "      <td>1.516368</td>\n",
              "    </tr>\n",
              "    <tr>\n",
              "      <th>2</th>\n",
              "      <td>-0.047998</td>\n",
              "      <td>0.118945</td>\n",
              "      <td>-0.138788</td>\n",
              "      <td>-0.148338</td>\n",
              "      <td>1.593581</td>\n",
              "      <td>1.083557</td>\n",
              "    </tr>\n",
              "    <tr>\n",
              "      <th>3</th>\n",
              "      <td>-1.306624</td>\n",
              "      <td>0.373395</td>\n",
              "      <td>0.403735</td>\n",
              "      <td>1.186492</td>\n",
              "      <td>-1.314354</td>\n",
              "      <td>1.227828</td>\n",
              "    </tr>\n",
              "    <tr>\n",
              "      <th>4</th>\n",
              "      <td>-1.166777</td>\n",
              "      <td>0.984152</td>\n",
              "      <td>-0.914996</td>\n",
              "      <td>-0.218592</td>\n",
              "      <td>-1.023560</td>\n",
              "      <td>-0.070605</td>\n",
              "    </tr>\n",
              "  </tbody>\n",
              "</table>\n",
              "</div>"
            ],
            "text/plain": [
              "   duration  latitude  longitude  eventYear  eventMonth  eventHour\n",
              "0 -1.621281  0.956467  -0.921415  -1.202151   -1.023560   1.660639\n",
              "1 -1.621281  1.489850   2.223684  -0.850880    1.302788   1.516368\n",
              "2 -0.047998  0.118945  -0.138788  -0.148338    1.593581   1.083557\n",
              "3 -1.306624  0.373395   0.403735   1.186492   -1.314354   1.227828\n",
              "4 -1.166777  0.984152  -0.914996  -0.218592   -1.023560  -0.070605"
            ]
          },
          "metadata": {
            "tags": []
          },
          "execution_count": 37
        }
      ]
    },
    {
      "cell_type": "code",
      "metadata": {
        "id": "NjNDKLfQJ_sL",
        "colab": {
          "base_uri": "https://localhost:8080/"
        },
        "outputId": "8138e863-c128-41fa-c9d7-4daa5ce4d720"
      },
      "source": [
        "#Implementing KMEANS\n",
        "\n",
        "from sklearn.cluster import KMeans\n",
        "\n",
        "kmeans=KMeans(n_clusters=10,init='k-means++')\n",
        "kmeans.fit(df_ss)"
      ],
      "execution_count": null,
      "outputs": [
        {
          "output_type": "execute_result",
          "data": {
            "text/plain": [
              "KMeans(algorithm='auto', copy_x=True, init='k-means++', max_iter=300,\n",
              "       n_clusters=10, n_init=10, n_jobs=None, precompute_distances='auto',\n",
              "       random_state=None, tol=0.0001, verbose=0)"
            ]
          },
          "metadata": {
            "tags": []
          },
          "execution_count": 38
        }
      ]
    },
    {
      "cell_type": "code",
      "metadata": {
        "id": "WLxhGthMLFVR",
        "colab": {
          "base_uri": "https://localhost:8080/"
        },
        "outputId": "b579a29f-cf86-4f7c-ab23-338bf8fa6ee3"
      },
      "source": [
        "kmeans.inertia_"
      ],
      "execution_count": null,
      "outputs": [
        {
          "output_type": "execute_result",
          "data": {
            "text/plain": [
              "30987.541028861913"
            ]
          },
          "metadata": {
            "tags": []
          },
          "execution_count": 39
        }
      ]
    },
    {
      "cell_type": "code",
      "source": [
        ""
      ],
      "metadata": {
        "id": "CvjBLHgQwHIG"
      },
      "execution_count": null,
      "outputs": []
    },
    {
      "cell_type": "markdown",
      "source": [
        "**Getting Optimal K-Value**\n",
        "\n",
        "To find the optimal value of clusters, the elbow method follows the below steps:\n",
        "\n",
        "It executes the K-means clustering on a given dataset for different K values (ranges from 1-40 here).\n",
        "For each value of K, calculates the WCSS value.\n",
        "Plots a curve between calculated WCSS values and the number of clusters K.\n",
        "The sharp point of bend or a point of the plot looks like an arm, then that point is considered as the best value of K."
      ],
      "metadata": {
        "id": "fN8oaZctwIKm"
      }
    },
    {
      "cell_type": "code",
      "metadata": {
        "id": "U6w1Zd2ELGlP",
        "colab": {
          "base_uri": "https://localhost:8080/",
          "height": 405
        },
        "outputId": "03bd28cb-73f6-446f-c3ea-1c0867a7af65"
      },
      "source": [
        "# fitting multiple k-means algorithms and storing the values in an empty list\n",
        "SSE = []\n",
        "for cluster in range(1,40):\n",
        "  kmeans = KMeans(n_jobs = -1, n_clusters = cluster, init='k-means++')\n",
        "  kmeans.fit(df_ss)\n",
        "  SSE.append(kmeans.inertia_)\n",
        "\n",
        "\n",
        "# converting the results into a dataframe and plotting them\n",
        "frame = pd.DataFrame({'Cluster':range(1,40), 'SSE':SSE})\n",
        "plt.figure(figsize=(12,6))\n",
        "plt.plot(frame['Cluster'], frame['SSE'], marker='o')\n",
        "plt.xlabel('Number of clusters')\n",
        "plt.ylabel('Inertia')"
      ],
      "execution_count": null,
      "outputs": [
        {
          "output_type": "execute_result",
          "data": {
            "text/plain": [
              "Text(0, 0.5, 'Inertia')"
            ]
          },
          "metadata": {
            "tags": []
          },
          "execution_count": 40
        },
        {
          "output_type": "display_data",
          "data": {
            "image/png": "[encoded data removed]",
            "text/plain": [
              "<Figure size 864x432 with 1 Axes>"
            ]
          },
          "metadata": {
            "tags": [],
            "needs_background": "light"
          }
        }
      ]
    },
    {
      "cell_type": "code",
      "metadata": {
        "id": "IpTVVN2MQC44"
      },
      "source": [
        "# k means using 10 clusters and k-means++ initialization\n",
        "kmeans = KMeans(n_jobs = -1, n_clusters = 10, init='k-means++')\n",
        "kmeans.fit(df_ss)\n",
        "pred = kmeans.predict(df_ss)"
      ],
      "execution_count": null,
      "outputs": []
    },
    {
      "cell_type": "code",
      "metadata": {
        "id": "NqTuptmpRzob",
        "colab": {
          "base_uri": "https://localhost:8080/"
        },
        "outputId": "8b628fb2-ca26-4bc2-9896-f44ff9cc1d68"
      },
      "source": [
        "\n",
        "df_ss['cluster'] = pred\n",
        "df_ss['cluster'].value_counts()"
      ],
      "execution_count": null,
      "outputs": [
        {
          "output_type": "execute_result",
          "data": {
            "text/plain": [
              "3    1588\n",
              "1    1545\n",
              "6    1518\n",
              "8    1501\n",
              "9    1493\n",
              "0    1489\n",
              "4    1482\n",
              "5    1441\n",
              "7     567\n",
              "2     198\n",
              "Name: cluster, dtype: int64"
            ]
          },
          "metadata": {
            "tags": []
          },
          "execution_count": 105
        }
      ]
    },
    {
      "cell_type": "markdown",
      "metadata": {
        "id": "mEnSv8FGKjt3"
      },
      "source": [
        "# KMeans for Customer Purchase"
      ]
    },
    {
      "cell_type": "code",
      "metadata": {
        "colab": {
          "base_uri": "https://localhost:8080/",
          "height": 417
        },
        "id": "bGXOQFYyKoH6",
        "outputId": "c79a7daf-f29e-43dc-efed-37d07b70ad6e"
      },
      "source": [
        "import pandas as pd\n",
        "import numpy as np\n",
        "\n",
        "df = pd.read_csv(\"FyntraCustomerData.csv\")\n",
        "df.head()"
      ],
      "execution_count": null,
      "outputs": [
        {
          "output_type": "execute_result",
          "data": {
            "text/html": [
              "<div>\n",
              "<style scoped>\n",
              "    .dataframe tbody tr th:only-of-type {\n",
              "        vertical-align: middle;\n",
              "    }\n",
              "\n",
              "    .dataframe tbody tr th {\n",
              "        vertical-align: top;\n",
              "    }\n",
              "\n",
              "    .dataframe thead th {\n",
              "        text-align: right;\n",
              "    }\n",
              "</style>\n",
              "<table border=\"1\" class=\"dataframe\">\n",
              "  <thead>\n",
              "    <tr style=\"text-align: right;\">\n",
              "      <th></th>\n",
              "      <th>Email</th>\n",
              "      <th>Address</th>\n",
              "      <th>Avatar</th>\n",
              "      <th>Avg_Session_Length</th>\n",
              "      <th>Time_on_App</th>\n",
              "      <th>Time_on_Website</th>\n",
              "      <th>Length_of_Membership</th>\n",
              "      <th>Yearly_Amount_Spent</th>\n",
              "    </tr>\n",
              "  </thead>\n",
              "  <tbody>\n",
              "    <tr>\n",
              "      <th>0</th>\n",
              "      <td>mstephenson@fernandez.com</td>\n",
              "      <td>835 Frank Tunnel\\nWrightmouth, MI 82180-9605</td>\n",
              "      <td>Violet</td>\n",
              "      <td>34.497268</td>\n",
              "      <td>12.655651</td>\n",
              "      <td>39.577668</td>\n",
              "      <td>4.082621</td>\n",
              "      <td>587.951054</td>\n",
              "    </tr>\n",
              "    <tr>\n",
              "      <th>1</th>\n",
              "      <td>hduke@hotmail.com</td>\n",
              "      <td>4547 Archer Common\\nDiazchester, CA 06566-8576</td>\n",
              "      <td>DarkGreen</td>\n",
              "      <td>31.926272</td>\n",
              "      <td>11.109461</td>\n",
              "      <td>37.268959</td>\n",
              "      <td>2.664034</td>\n",
              "      <td>392.204933</td>\n",
              "    </tr>\n",
              "    <tr>\n",
              "      <th>2</th>\n",
              "      <td>pallen@yahoo.com</td>\n",
              "      <td>24645 Valerie Unions Suite 582\\nCobbborough, D...</td>\n",
              "      <td>Bisque</td>\n",
              "      <td>33.000915</td>\n",
              "      <td>11.330278</td>\n",
              "      <td>37.110597</td>\n",
              "      <td>4.104543</td>\n",
              "      <td>487.547505</td>\n",
              "    </tr>\n",
              "    <tr>\n",
              "      <th>3</th>\n",
              "      <td>riverarebecca@gmail.com</td>\n",
              "      <td>1414 David Throughway\\nPort Jason, OH 22070-1220</td>\n",
              "      <td>SaddleBrown</td>\n",
              "      <td>34.305557</td>\n",
              "      <td>13.717514</td>\n",
              "      <td>36.721283</td>\n",
              "      <td>3.120179</td>\n",
              "      <td>581.852344</td>\n",
              "    </tr>\n",
              "    <tr>\n",
              "      <th>4</th>\n",
              "      <td>mstephens@davidson-herman.com</td>\n",
              "      <td>14023 Rodriguez Passage\\nPort Jacobville, PR 3...</td>\n",
              "      <td>MediumAquaMarine</td>\n",
              "      <td>33.330673</td>\n",
              "      <td>12.795189</td>\n",
              "      <td>37.536653</td>\n",
              "      <td>4.446308</td>\n",
              "      <td>599.406092</td>\n",
              "    </tr>\n",
              "  </tbody>\n",
              "</table>\n",
              "</div>"
            ],
            "text/plain": [
              "                           Email  ... Yearly_Amount_Spent\n",
              "0      mstephenson@fernandez.com  ...          587.951054\n",
              "1              hduke@hotmail.com  ...          392.204933\n",
              "2               pallen@yahoo.com  ...          487.547505\n",
              "3        riverarebecca@gmail.com  ...          581.852344\n",
              "4  mstephens@davidson-herman.com  ...          599.406092\n",
              "\n",
              "[5 rows x 8 columns]"
            ]
          },
          "metadata": {
            "tags": []
          },
          "execution_count": 42
        }
      ]
    },
    {
      "cell_type": "code",
      "metadata": {
        "colab": {
          "base_uri": "https://localhost:8080/",
          "height": 243
        },
        "id": "efrFNlxmK4iJ",
        "outputId": "803ed0b7-d1cd-4894-86e1-83215b143f30"
      },
      "source": [
        "df = df.drop(columns=[\"Address\", \"Avatar\"], axis=1)\n",
        "df.head()"
      ],
      "execution_count": null,
      "outputs": [
        {
          "output_type": "execute_result",
          "data": {
            "text/html": [
              "<div>\n",
              "<style scoped>\n",
              "    .dataframe tbody tr th:only-of-type {\n",
              "        vertical-align: middle;\n",
              "    }\n",
              "\n",
              "    .dataframe tbody tr th {\n",
              "        vertical-align: top;\n",
              "    }\n",
              "\n",
              "    .dataframe thead th {\n",
              "        text-align: right;\n",
              "    }\n",
              "</style>\n",
              "<table border=\"1\" class=\"dataframe\">\n",
              "  <thead>\n",
              "    <tr style=\"text-align: right;\">\n",
              "      <th></th>\n",
              "      <th>Email</th>\n",
              "      <th>Avg_Session_Length</th>\n",
              "      <th>Time_on_App</th>\n",
              "      <th>Time_on_Website</th>\n",
              "      <th>Length_of_Membership</th>\n",
              "      <th>Yearly_Amount_Spent</th>\n",
              "    </tr>\n",
              "  </thead>\n",
              "  <tbody>\n",
              "    <tr>\n",
              "      <th>0</th>\n",
              "      <td>mstephenson@fernandez.com</td>\n",
              "      <td>34.497268</td>\n",
              "      <td>12.655651</td>\n",
              "      <td>39.577668</td>\n",
              "      <td>4.082621</td>\n",
              "      <td>587.951054</td>\n",
              "    </tr>\n",
              "    <tr>\n",
              "      <th>1</th>\n",
              "      <td>hduke@hotmail.com</td>\n",
              "      <td>31.926272</td>\n",
              "      <td>11.109461</td>\n",
              "      <td>37.268959</td>\n",
              "      <td>2.664034</td>\n",
              "      <td>392.204933</td>\n",
              "    </tr>\n",
              "    <tr>\n",
              "      <th>2</th>\n",
              "      <td>pallen@yahoo.com</td>\n",
              "      <td>33.000915</td>\n",
              "      <td>11.330278</td>\n",
              "      <td>37.110597</td>\n",
              "      <td>4.104543</td>\n",
              "      <td>487.547505</td>\n",
              "    </tr>\n",
              "    <tr>\n",
              "      <th>3</th>\n",
              "      <td>riverarebecca@gmail.com</td>\n",
              "      <td>34.305557</td>\n",
              "      <td>13.717514</td>\n",
              "      <td>36.721283</td>\n",
              "      <td>3.120179</td>\n",
              "      <td>581.852344</td>\n",
              "    </tr>\n",
              "    <tr>\n",
              "      <th>4</th>\n",
              "      <td>mstephens@davidson-herman.com</td>\n",
              "      <td>33.330673</td>\n",
              "      <td>12.795189</td>\n",
              "      <td>37.536653</td>\n",
              "      <td>4.446308</td>\n",
              "      <td>599.406092</td>\n",
              "    </tr>\n",
              "  </tbody>\n",
              "</table>\n",
              "</div>"
            ],
            "text/plain": [
              "                           Email  ...  Yearly_Amount_Spent\n",
              "0      mstephenson@fernandez.com  ...           587.951054\n",
              "1              hduke@hotmail.com  ...           392.204933\n",
              "2               pallen@yahoo.com  ...           487.547505\n",
              "3        riverarebecca@gmail.com  ...           581.852344\n",
              "4  mstephens@davidson-herman.com  ...           599.406092\n",
              "\n",
              "[5 rows x 6 columns]"
            ]
          },
          "metadata": {
            "tags": []
          },
          "execution_count": 45
        }
      ]
    },
    {
      "cell_type": "code",
      "metadata": {
        "colab": {
          "base_uri": "https://localhost:8080/",
          "height": 206
        },
        "id": "XHm17iulLL-a",
        "outputId": "0a4063e0-b6c2-402e-d244-9bcb1b064338"
      },
      "source": [
        "from sklearn.preprocessing import StandardScaler\n",
        "ss=StandardScaler()\n",
        "\n",
        "df1 = df.drop(\"Email\", axis = 1)\n",
        "df_ss_array=ss.fit_transform(df1)\n",
        "\n",
        "df_ss=pd.DataFrame(df_ss_array,index=df1.index,columns=df1.columns)\n",
        "df_ss.head()"
      ],
      "execution_count": null,
      "outputs": [
        {
          "output_type": "execute_result",
          "data": {
            "text/html": [
              "<div>\n",
              "<style scoped>\n",
              "    .dataframe tbody tr th:only-of-type {\n",
              "        vertical-align: middle;\n",
              "    }\n",
              "\n",
              "    .dataframe tbody tr th {\n",
              "        vertical-align: top;\n",
              "    }\n",
              "\n",
              "    .dataframe thead th {\n",
              "        text-align: right;\n",
              "    }\n",
              "</style>\n",
              "<table border=\"1\" class=\"dataframe\">\n",
              "  <thead>\n",
              "    <tr style=\"text-align: right;\">\n",
              "      <th></th>\n",
              "      <th>Avg_Session_Length</th>\n",
              "      <th>Time_on_App</th>\n",
              "      <th>Time_on_Website</th>\n",
              "      <th>Length_of_Membership</th>\n",
              "      <th>Yearly_Amount_Spent</th>\n",
              "    </tr>\n",
              "  </thead>\n",
              "  <tbody>\n",
              "    <tr>\n",
              "      <th>0</th>\n",
              "      <td>1.456351</td>\n",
              "      <td>0.607280</td>\n",
              "      <td>2.493589</td>\n",
              "      <td>0.550107</td>\n",
              "      <td>1.118654</td>\n",
              "    </tr>\n",
              "    <tr>\n",
              "      <th>1</th>\n",
              "      <td>-1.136502</td>\n",
              "      <td>-0.949464</td>\n",
              "      <td>0.206556</td>\n",
              "      <td>-0.870927</td>\n",
              "      <td>-1.351783</td>\n",
              "    </tr>\n",
              "    <tr>\n",
              "      <th>2</th>\n",
              "      <td>-0.052723</td>\n",
              "      <td>-0.727139</td>\n",
              "      <td>0.049681</td>\n",
              "      <td>0.572067</td>\n",
              "      <td>-0.148501</td>\n",
              "    </tr>\n",
              "    <tr>\n",
              "      <th>3</th>\n",
              "      <td>1.263010</td>\n",
              "      <td>1.676390</td>\n",
              "      <td>-0.335978</td>\n",
              "      <td>-0.413996</td>\n",
              "      <td>1.041684</td>\n",
              "    </tr>\n",
              "    <tr>\n",
              "      <th>4</th>\n",
              "      <td>0.279838</td>\n",
              "      <td>0.747770</td>\n",
              "      <td>0.471737</td>\n",
              "      <td>0.914422</td>\n",
              "      <td>1.263224</td>\n",
              "    </tr>\n",
              "  </tbody>\n",
              "</table>\n",
              "</div>"
            ],
            "text/plain": [
              "   Avg_Session_Length  Time_on_App  ...  Length_of_Membership  Yearly_Amount_Spent\n",
              "0            1.456351     0.607280  ...              0.550107             1.118654\n",
              "1           -1.136502    -0.949464  ...             -0.870927            -1.351783\n",
              "2           -0.052723    -0.727139  ...              0.572067            -0.148501\n",
              "3            1.263010     1.676390  ...             -0.413996             1.041684\n",
              "4            0.279838     0.747770  ...              0.914422             1.263224\n",
              "\n",
              "[5 rows x 5 columns]"
            ]
          },
          "metadata": {
            "tags": []
          },
          "execution_count": 48
        }
      ]
    },
    {
      "cell_type": "code",
      "metadata": {
        "id": "MXCWAVHrLME-"
      },
      "source": [
        "# k means using 10 clusters and k-means++ initialization\n",
        "kmeans = KMeans(n_jobs = -1, n_clusters = 3, init='k-means++')\n",
        "kmeans.fit(df_ss)\n",
        "pred = kmeans.predict(df_ss)"
      ],
      "execution_count": null,
      "outputs": []
    },
    {
      "cell_type": "code",
      "metadata": {
        "colab": {
          "base_uri": "https://localhost:8080/"
        },
        "id": "Rlgi-MA7NHCc",
        "outputId": "834a5211-33d3-4b90-90bf-67e33699a9c4"
      },
      "source": [
        "df_ss['cluster'] = pred\n",
        "df_ss['cluster'].value_counts()"
      ],
      "execution_count": null,
      "outputs": [
        {
          "output_type": "execute_result",
          "data": {
            "text/plain": [
              "0    184\n",
              "1    169\n",
              "2    147\n",
              "Name: cluster, dtype: int64"
            ]
          },
          "metadata": {
            "tags": []
          },
          "execution_count": 50
        }
      ]
    },
    {
      "cell_type": "code",
      "metadata": {
        "id": "W-YdnhQrOclB"
      },
      "source": [
        "cols = ['AUTHOR_NAME', 'title']\n",
        "df.join(df2.set_index(cols), on=cols)"
      ],
      "execution_count": null,
      "outputs": []
    },
    {
      "cell_type": "code",
      "metadata": {
        "colab": {
          "base_uri": "https://localhost:8080/",
          "height": 243
        },
        "id": "qvPl7GHYNKsU",
        "outputId": "ce47ee2b-49ba-40fe-e653-4bdd8b9e6060"
      },
      "source": [
        "df_ss[\"Email\"] = df[\"Email\"]\n",
        "df_ss.head()"
      ],
      "execution_count": null,
      "outputs": [
        {
          "output_type": "execute_result",
          "data": {
            "text/html": [
              "<div>\n",
              "<style scoped>\n",
              "    .dataframe tbody tr th:only-of-type {\n",
              "        vertical-align: middle;\n",
              "    }\n",
              "\n",
              "    .dataframe tbody tr th {\n",
              "        vertical-align: top;\n",
              "    }\n",
              "\n",
              "    .dataframe thead th {\n",
              "        text-align: right;\n",
              "    }\n",
              "</style>\n",
              "<table border=\"1\" class=\"dataframe\">\n",
              "  <thead>\n",
              "    <tr style=\"text-align: right;\">\n",
              "      <th></th>\n",
              "      <th>Avg_Session_Length</th>\n",
              "      <th>Time_on_App</th>\n",
              "      <th>Time_on_Website</th>\n",
              "      <th>Length_of_Membership</th>\n",
              "      <th>Yearly_Amount_Spent</th>\n",
              "      <th>cluster</th>\n",
              "      <th>Email</th>\n",
              "    </tr>\n",
              "  </thead>\n",
              "  <tbody>\n",
              "    <tr>\n",
              "      <th>0</th>\n",
              "      <td>1.456351</td>\n",
              "      <td>0.607280</td>\n",
              "      <td>2.493589</td>\n",
              "      <td>0.550107</td>\n",
              "      <td>1.118654</td>\n",
              "      <td>2</td>\n",
              "      <td>mstephenson@fernandez.com</td>\n",
              "    </tr>\n",
              "    <tr>\n",
              "      <th>1</th>\n",
              "      <td>-1.136502</td>\n",
              "      <td>-0.949464</td>\n",
              "      <td>0.206556</td>\n",
              "      <td>-0.870927</td>\n",
              "      <td>-1.351783</td>\n",
              "      <td>0</td>\n",
              "      <td>hduke@hotmail.com</td>\n",
              "    </tr>\n",
              "    <tr>\n",
              "      <th>2</th>\n",
              "      <td>-0.052723</td>\n",
              "      <td>-0.727139</td>\n",
              "      <td>0.049681</td>\n",
              "      <td>0.572067</td>\n",
              "      <td>-0.148501</td>\n",
              "      <td>1</td>\n",
              "      <td>pallen@yahoo.com</td>\n",
              "    </tr>\n",
              "    <tr>\n",
              "      <th>3</th>\n",
              "      <td>1.263010</td>\n",
              "      <td>1.676390</td>\n",
              "      <td>-0.335978</td>\n",
              "      <td>-0.413996</td>\n",
              "      <td>1.041684</td>\n",
              "      <td>2</td>\n",
              "      <td>riverarebecca@gmail.com</td>\n",
              "    </tr>\n",
              "    <tr>\n",
              "      <th>4</th>\n",
              "      <td>0.279838</td>\n",
              "      <td>0.747770</td>\n",
              "      <td>0.471737</td>\n",
              "      <td>0.914422</td>\n",
              "      <td>1.263224</td>\n",
              "      <td>2</td>\n",
              "      <td>mstephens@davidson-herman.com</td>\n",
              "    </tr>\n",
              "  </tbody>\n",
              "</table>\n",
              "</div>"
            ],
            "text/plain": [
              "   Avg_Session_Length  Time_on_App  ...  cluster                          Email\n",
              "0            1.456351     0.607280  ...        2      mstephenson@fernandez.com\n",
              "1           -1.136502    -0.949464  ...        0              hduke@hotmail.com\n",
              "2           -0.052723    -0.727139  ...        1               pallen@yahoo.com\n",
              "3            1.263010     1.676390  ...        2        riverarebecca@gmail.com\n",
              "4            0.279838     0.747770  ...        2  mstephens@davidson-herman.com\n",
              "\n",
              "[5 rows x 7 columns]"
            ]
          },
          "metadata": {
            "tags": []
          },
          "execution_count": 52
        }
      ]
    },
    {
      "cell_type": "code",
      "metadata": {
        "colab": {
          "base_uri": "https://localhost:8080/",
          "height": 101
        },
        "id": "6lff5jIHOb2e",
        "outputId": "fbaedb30-7ea3-4918-88ff-ec556eaf57a9"
      },
      "source": [
        "df_ss[df_ss[\"Email\"]==\"aaron04@yahoo.com\"]"
      ],
      "execution_count": null,
      "outputs": [
        {
          "output_type": "execute_result",
          "data": {
            "text/html": [
              "<div>\n",
              "<style scoped>\n",
              "    .dataframe tbody tr th:only-of-type {\n",
              "        vertical-align: middle;\n",
              "    }\n",
              "\n",
              "    .dataframe tbody tr th {\n",
              "        vertical-align: top;\n",
              "    }\n",
              "\n",
              "    .dataframe thead th {\n",
              "        text-align: right;\n",
              "    }\n",
              "</style>\n",
              "<table border=\"1\" class=\"dataframe\">\n",
              "  <thead>\n",
              "    <tr style=\"text-align: right;\">\n",
              "      <th></th>\n",
              "      <th>Avg_Session_Length</th>\n",
              "      <th>Time_on_App</th>\n",
              "      <th>Time_on_Website</th>\n",
              "      <th>Length_of_Membership</th>\n",
              "      <th>Yearly_Amount_Spent</th>\n",
              "      <th>cluster</th>\n",
              "      <th>Email</th>\n",
              "    </tr>\n",
              "  </thead>\n",
              "  <tbody>\n",
              "    <tr>\n",
              "      <th>370</th>\n",
              "      <td>0.657462</td>\n",
              "      <td>-1.902204</td>\n",
              "      <td>0.695999</td>\n",
              "      <td>1.247661</td>\n",
              "      <td>0.276729</td>\n",
              "      <td>1</td>\n",
              "      <td>aaron04@yahoo.com</td>\n",
              "    </tr>\n",
              "  </tbody>\n",
              "</table>\n",
              "</div>"
            ],
            "text/plain": [
              "     Avg_Session_Length  Time_on_App  ...  cluster              Email\n",
              "370            0.657462    -1.902204  ...        1  aaron04@yahoo.com\n",
              "\n",
              "[1 rows x 7 columns]"
            ]
          },
          "metadata": {
            "tags": []
          },
          "execution_count": 53
        }
      ]
    },
    {
      "cell_type": "code",
      "metadata": {
        "id": "Y9SpKPGNROAD"
      },
      "source": [
        "df_ss.to_csv(\"Fyntra_clustered.csv\")"
      ],
      "execution_count": null,
      "outputs": []
    }
  ]
}